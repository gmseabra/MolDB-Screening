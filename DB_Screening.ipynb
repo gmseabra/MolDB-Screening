{
 "cells": [
  {
   "cell_type": "markdown",
   "id": "4b1693e5-3301-4887-b47d-0ac8ed9f92bd",
   "metadata": {},
   "source": [
    "<p style=\"color:blue;font-size:60px\" > <b>Molecular Database Screening</b> </p>"
   ]
  },
  {
   "cell_type": "markdown",
   "id": "c2364822-04da-45d3-8db3-5a7ec0abc04e",
   "metadata": {
    "jp-MarkdownHeadingCollapsed": true,
    "tags": []
   },
   "source": [
    "# General Imports"
   ]
  },
  {
   "cell_type": "code",
   "execution_count": null,
   "id": "82b77cca-454d-4cf1-a0d7-82ee7117d012",
   "metadata": {
    "tags": []
   },
   "outputs": [],
   "source": [
    "# -- Data & Plotting\n",
    "import numpy as np\n",
    "import pandas as pd\n",
    "import matplotlib.pyplot as plt\n",
    "import seaborn as sns\n",
    "\n",
    "from pathlib import Path\n",
    "\n",
    "# Progress Bar\n",
    "from tqdm import tqdm, tnrange, tqdm_notebook\n",
    "tqdm.pandas()\n",
    "\n",
    "# -- RDKit\n",
    "import rdkit\n",
    "from rdkit import Chem\n",
    "from rdkit.Chem import AllChem, Draw, PandasTools\n",
    "from rdkit.Chem.Draw import IPythonConsole\n",
    "PandasTools.RenderImagesInAllDataFrames()\n",
    "print(\"RDKit Version: \", rdkit.__version__)"
   ]
  },
  {
   "cell_type": "code",
   "execution_count": null,
   "id": "96415bdf-c3ab-4df1-b640-1387ce7609ec",
   "metadata": {
    "tags": []
   },
   "outputs": [],
   "source": [
    "import warnings\n",
    "warnings.filterwarnings(\"ignore\")"
   ]
  },
  {
   "cell_type": "markdown",
   "id": "7fbc0a65-0f9d-434c-90d7-30fb67d8d722",
   "metadata": {},
   "source": [
    "# Virtual Screening\n",
    "Today, we will see an example of screening a molecular database in search for new potential drug hits.\n",
    "\n",
    "In the first stages of Drug discovery, we are interested in finding a molecule that binds to a target with high affinity (the \"hit\" molecule), which later can be optimized to fine tune many of it's properties. But how to find this first 'needle in the haystack'?\n",
    "\n",
    "Computational approaches can easily design huge number of molecules (billions/trillions/more?) by enumerating virtual libraries. However, \n",
    "- It is likely that only a fraction of such compounds can be synthesized in practice. \n",
    "- The cost for synthesis and storage of such collections is prohibitive.\n",
    "\n",
    "On the other hand, there are pre-existing databases of compounds available:\n",
    "- Pharmaceutical companies already have collections of compounds, synthesized in previous campaigns.\n",
    "- Chemical vendors offer compound collections for immediate purchase.\n",
    "- Some vendors even offer 'make-on-demand' services based on a limited number of reactions and building blocks.\n",
    "\n",
    "The size of the collections available can easily reach billions of compounds!"
   ]
  },
  {
   "cell_type": "markdown",
   "id": "086144fa-9fe8-41c1-8cb5-49ab0ad6d4ac",
   "metadata": {},
   "source": [
    "<div class=\"alert alert-info\" role=\"alert\">\n",
    "    Virtual database screening methods offer a way to prioritize the compounds for testing, greatly reducing the costs in this phase.\n",
    "</div> "
   ]
  },
  {
   "cell_type": "markdown",
   "id": "e39e7861-85e0-4685-bd2f-ffc50b8aefc3",
   "metadata": {
    "tags": []
   },
   "source": [
    "## Methods of Virtual Screening\n",
    "\n",
    "The methods used for virtual screening can be roughly divided into two families:\n",
    "\n",
    "### **Ligand-based**\n",
    "- Requires knowledge of *ligands*\n",
    "- Examples:\n",
    "    - Similarity Search\n",
    "    - Pharmacophore Search\n",
    "\n",
    "![MyGif](media/pharmacophore.gif \"segment\")"
   ]
  },
  {
   "cell_type": "markdown",
   "id": "2d3900d1-ea26-49f7-8ee9-864be2646258",
   "metadata": {},
   "source": [
    "### **Structure-based**\n",
    "- Requires knowledge of *target*\n",
    "- Examples:\n",
    "    - Docking\n",
    "    - Molecular Dynamics\n",
    "    \n",
    "![MyGif](media/docking.gif \"segment\")"
   ]
  },
  {
   "cell_type": "markdown",
   "id": "e3c27656-9af1-4159-8035-db8592c3ed72",
   "metadata": {},
   "source": [
    "Details on those have been covered in previous classes. Let's look at an example."
   ]
  },
  {
   "cell_type": "markdown",
   "id": "952dd5c0-f8be-4cb3-8cf2-db1013cdc8cd",
   "metadata": {},
   "source": [
    "# Docking Example"
   ]
  },
  {
   "cell_type": "code",
   "execution_count": null,
   "id": "45fd759f-6118-46bb-a5ac-59cf0947ca33",
   "metadata": {
    "tags": []
   },
   "outputs": [],
   "source": [
    "from vina import Vina\n",
    "print(\"Vina Version: \", Vina().cite() )"
   ]
  },
  {
   "cell_type": "markdown",
   "id": "c2950dcc-f67f-4f5c-bf83-910de8b25670",
   "metadata": {},
   "source": [
    "There's a small sample (10 molecules) in the `data/ligands` folder. Here we can use [AutoDock Vina](https://autodock-vina.readthedocs.io/en/latest/index.html) to dock them to a target, and here we are looking for molecules that can bind the WWE domain of human RNF146 ([PDB:3V3L](https://www.rcsb.org/structure/3v3l)).\n",
    "\n",
    "First, lets set some docking parameters:"
   ]
  },
  {
   "cell_type": "code",
   "execution_count": null,
   "id": "d61f9e7c-752c-45d5-a3f7-55b7a7febf4a",
   "metadata": {
    "tags": []
   },
   "outputs": [],
   "source": [
    "# Control variables\n",
    "EXHAUSTIVENESS     = 8\n",
    "N_POSES            = 5\n",
    "VINA_CPUS          = 4\n",
    "ENERGY_RANGE       = 5.0\n",
    "\n",
    "# -- Grid Definition\n",
    "center_x = 23.266\n",
    "center_y = 56.891\n",
    "center_z = 86.524\n",
    "center = (center_x, center_y, center_z)\n",
    "\n",
    "size_x = 18.0\n",
    "size_y = 18.0\n",
    "size_z = 18.0\n",
    "size = (size_x, size_y, size_z)"
   ]
  },
  {
   "cell_type": "markdown",
   "id": "e4498b6f-60c1-43db-9d31-0e58c0d1c083",
   "metadata": {},
   "source": [
    "The files for docking have already been prepared:"
   ]
  },
  {
   "cell_type": "code",
   "execution_count": null,
   "id": "58654030-28ca-4e27-870d-6acceb6ec6fd",
   "metadata": {
    "tags": []
   },
   "outputs": [],
   "source": [
    "target_file = \"data/3V3L_A_prepared.pdbqt\"\n",
    "lig_library = Path(\"data/ligands\")\n",
    "ligands = list(str(x) for x in lig_library.glob(\"**/*.pdbqt\"))"
   ]
  },
  {
   "cell_type": "code",
   "execution_count": null,
   "id": "d0567618-e317-4b83-8702-d72544e56619",
   "metadata": {
    "tags": []
   },
   "outputs": [],
   "source": [
    "ligands"
   ]
  },
  {
   "cell_type": "markdown",
   "id": "0219d711-8b15-4f4f-b837-b3f292862d56",
   "metadata": {},
   "source": [
    "To use Vina, we create a `docker` object:"
   ]
  },
  {
   "cell_type": "code",
   "execution_count": null,
   "id": "b4f3d89c-128f-44af-9a8e-5b9efe3ddb3f",
   "metadata": {
    "tags": []
   },
   "outputs": [],
   "source": [
    "docker = Vina(sf_name='Vina', cpu=VINA_CPUS, verbosity=0)\n",
    "docker.set_receptor(target_file)"
   ]
  },
  {
   "cell_type": "markdown",
   "id": "c2ab518e-541f-4af1-a457-ea788bb58248",
   "metadata": {},
   "source": [
    "Now we can dock the compounds. You can play with the code below to dock more compounds:"
   ]
  },
  {
   "cell_type": "code",
   "execution_count": null,
   "id": "0133a17b-f08b-4fe8-867e-71de54e79790",
   "metadata": {
    "tags": []
   },
   "outputs": [],
   "source": [
    "%%time\n",
    "docking_scores = []\n",
    "N_TO_DOCK = 1 # Max 10, which is what we have.\n",
    "for ligand in ligands[:N_TO_DOCK]:\n",
    "    print(\"Docking ligand: \", ligand, flush=True)\n",
    "    docker.set_ligand_from_file(ligand)\n",
    "    docker.compute_vina_maps(center, size)\n",
    "    docker.dock(exhaustiveness=EXHAUSTIVENESS, n_poses=N_POSES)\n",
    "    print(\"Docking Scores:\\n  [ total  inter  intra  torns -ibest]\", )\n",
    "    for pose, energy in enumerate(docker.energies(n_poses=N_POSES)):\n",
    "        print(pose, energy)\n",
    "    docking_scores.append(docker.energies(n_poses=1)[0][0])\n",
    "    print(\"*\"*80)"
   ]
  },
  {
   "cell_type": "markdown",
   "id": "930c24fe-a537-473c-ab37-1763c52be13b",
   "metadata": {},
   "source": [
    "All energies are in kcal/mol. The final binding energy (Vina Score) is calculated as the sum of the energy components:\n",
    "$$\n",
    "E_t = E_{inter} + E_{intra} + E_{tors} - E_{intra-best}\n",
    "$$\n",
    "\n",
    "Look at all the docking energies obtained (depends on how many molecules you docked):"
   ]
  },
  {
   "cell_type": "code",
   "execution_count": null,
   "id": "14f20bf7-6675-48f5-9c8d-3206811977d2",
   "metadata": {
    "tags": []
   },
   "outputs": [],
   "source": [
    "docking_scores"
   ]
  },
  {
   "cell_type": "markdown",
   "id": "5e18a65d-314f-4e74-b05d-6dd48d990809",
   "metadata": {
    "tags": []
   },
   "source": [
    "<div class=\"alert alert-info\" role=\"alert\">\n",
    "    <b>About timings</b> <br>\n",
    "    Here, with 4 processors dedicated to the docking, you are probably getting something ~10s/molecule. With parallel process, it is possible to reduce this number to ~4s/molecule or even more if using GPU-based implementations.\n",
    "</div> "
   ]
  },
  {
   "cell_type": "markdown",
   "id": "6340a16f-6883-41fd-a349-c91e58b9578f",
   "metadata": {
    "tags": []
   },
   "source": [
    "# Some Molecular Databases"
   ]
  },
  {
   "cell_type": "code",
   "execution_count": null,
   "id": "db4aa5fa-26f7-46ac-913d-443cf9f2516d",
   "metadata": {
    "tags": []
   },
   "outputs": [],
   "source": [
    "libs = pd.read_csv('data/Libraries.csv')#.sort_values(by='# cpds')\n",
    "libs"
   ]
  },
  {
   "cell_type": "markdown",
   "id": "b716aaeb-5287-4937-8548-0d298f479a9d",
   "metadata": {},
   "source": [
    "# Accelerating Screening with ML"
   ]
  },
  {
   "cell_type": "markdown",
   "id": "35e2c9d6-876e-4cb9-a14a-54e86bbdf0f1",
   "metadata": {},
   "source": [
    "We will try to accelerate the process using machine-learning. For this purpose, we have a database of ~200k compounds that we want to screen against the same target. The general process is like:\n",
    "\n",
    "![process](media/screening_process.png)"
   ]
  },
  {
   "cell_type": "markdown",
   "id": "cc85b59d-6acc-4579-b86a-01cf30aa44fb",
   "metadata": {},
   "source": [
    "<div class=\"alert alert-info\" role=\"alert\">\n",
    "    <b>To Speed Up the Class</b> <br>\n",
    "    Instead of actually docking the compounds, we already provide the docking energies here, so we can skip the orange boxes. In a real project, you would need to dock the selected compounds.\n",
    "</div> "
   ]
  },
  {
   "cell_type": "code",
   "execution_count": null,
   "id": "782f92c4-10b6-47a6-a96e-e83c21ba1480",
   "metadata": {
    "tags": []
   },
   "outputs": [],
   "source": [
    "database = pd.read_pickle('data/database.pkl.bz2')\n",
    "database.sample(5)"
   ]
  },
  {
   "cell_type": "code",
   "execution_count": null,
   "id": "984a2f9e-8497-4451-bcb5-c3790233fa6c",
   "metadata": {
    "tags": []
   },
   "outputs": [],
   "source": [
    "database.shape"
   ]
  },
  {
   "cell_type": "markdown",
   "id": "bc1e653e-4ab4-41ba-822e-8cf4df1572f6",
   "metadata": {},
   "source": [
    "The database contains 221,504 molecules, and would take ~25 days to scan at 10s/compound. Let's look at the data:"
   ]
  },
  {
   "cell_type": "code",
   "execution_count": null,
   "id": "5c0c43fd-556d-4e4d-9c03-81145900d5be",
   "metadata": {
    "tags": []
   },
   "outputs": [],
   "source": [
    "sns.histplot(data=database, x='Scores', kde=True);"
   ]
  },
  {
   "cell_type": "code",
   "execution_count": null,
   "id": "2d5ae7e2-af5c-46b1-8171-679df93a9584",
   "metadata": {
    "tags": []
   },
   "outputs": [],
   "source": [
    "(database.Scores > 0).sum()"
   ]
  },
  {
   "cell_type": "markdown",
   "id": "e117bdb2-8bd1-4c26-b965-f879fa8bfc78",
   "metadata": {},
   "source": [
    "This is real data, and some molecules just don't fit the pocket, leading to positive(!) binding energies. We can remove those examples fro the dataset:"
   ]
  },
  {
   "cell_type": "code",
   "execution_count": null,
   "id": "6a9d582a-1846-47f6-884d-489cdea54788",
   "metadata": {
    "tags": []
   },
   "outputs": [],
   "source": [
    "database = database.drop(database[ database.Scores > 0 ].index)"
   ]
  },
  {
   "cell_type": "code",
   "execution_count": null,
   "id": "908a338e-456c-4db9-af7e-0468aa21b517",
   "metadata": {
    "tags": []
   },
   "outputs": [],
   "source": [
    "sns.histplot(data=database, x='Scores', kde=True);"
   ]
  },
  {
   "cell_type": "markdown",
   "id": "9a7f25ab-d196-44c3-a89d-c30f694f4fc6",
   "metadata": {
    "tags": []
   },
   "source": [
    "Better now."
   ]
  },
  {
   "cell_type": "markdown",
   "id": "5a4d3e90-3f84-4826-9add-4fbeec92c98b",
   "metadata": {},
   "source": [
    "# Random Selection of 10K molecules\n",
    "Remember, in principle you don't have the docking scores. So, we first make a random selection of molecules to dock and use the results to create a model."
   ]
  },
  {
   "cell_type": "code",
   "execution_count": null,
   "id": "dfaf4f7b-e2de-4b67-80e0-f982405a3a13",
   "metadata": {
    "tags": []
   },
   "outputs": [],
   "source": [
    "N_SAMPLE = 10_000 # you can play with this to see if you can get a better model"
   ]
  },
  {
   "cell_type": "code",
   "execution_count": null,
   "id": "d179ec34-4f82-4bc7-bd18-81ab95c55d23",
   "metadata": {
    "tags": []
   },
   "outputs": [],
   "source": [
    "random_sel = database.sample(N_SAMPLE, random_state=42, ignore_index=True)"
   ]
  },
  {
   "cell_type": "markdown",
   "id": "05c3cd11-a77c-4efe-a672-1da16efb6b7e",
   "metadata": {},
   "source": [
    "Look at the selection. It should follow approximately the same distribution as the full database."
   ]
  },
  {
   "cell_type": "code",
   "execution_count": null,
   "id": "ecac3b82-281d-4561-8cbc-57306fa8ba8a",
   "metadata": {
    "tags": []
   },
   "outputs": [],
   "source": [
    "sns.histplot(data=database,   x='Scores', kde=True, label=\"Full Database\");\n",
    "sns.histplot(data=random_sel, x='Scores', kde=True, label=\"Random Sample\");\n",
    "plt.legend();"
   ]
  },
  {
   "cell_type": "markdown",
   "id": "a49ea05d-2bb0-497a-b04a-5f740496a307",
   "metadata": {},
   "source": [
    "# Models from random sample\n",
    "Now, let's create a couple of models. You can try other models later!"
   ]
  },
  {
   "cell_type": "code",
   "execution_count": null,
   "id": "b2fbb40a-3d3a-4187-8b1c-4bbb9f4825de",
   "metadata": {
    "tags": []
   },
   "outputs": [],
   "source": [
    "from sklearn import metrics\n",
    "from sklearn.model_selection import train_test_split\n",
    "from sklearn.ensemble import RandomForestClassifier, RandomForestRegressor"
   ]
  },
  {
   "cell_type": "code",
   "execution_count": null,
   "id": "0cfa6697-6994-4ec7-a70a-02347f7ac4fc",
   "metadata": {
    "tags": []
   },
   "outputs": [],
   "source": [
    "X, y = random_sel.RDKit.values.tolist(), random_sel.Scores.values.tolist()"
   ]
  },
  {
   "cell_type": "markdown",
   "id": "08cd62a2-5a7c-4c97-868d-0fcaf7b87c3c",
   "metadata": {},
   "source": [
    "## Random Forest Classifier"
   ]
  },
  {
   "cell_type": "markdown",
   "id": "df3bb880-4159-401b-ad0d-ece6fc5f612c",
   "metadata": {},
   "source": [
    "For a classifier, we need to make the data categorical. The threshold is arbitrary, and may change depending on the project. Here, we just set it so 30% of the molecules are considered \"active\"."
   ]
  },
  {
   "cell_type": "code",
   "execution_count": null,
   "id": "c99069c4-4684-437f-8a8e-cab91b3a7f89",
   "metadata": {
    "tags": []
   },
   "outputs": [],
   "source": [
    "# Make categorical data\n",
    "# This is an arbitrary threshold, and will vary by project\n",
    "threshold = np.percentile(y,30)\n",
    "y_cls = [ score < threshold for score in y]\n",
    "\n",
    "print(f\"Threshold score:  {threshold:.2f}\")\n",
    "print(f\"Negative samples: {len(y_cls) - np.sum(y_cls):6,} ({(len(y_cls) -  np.sum(y_cls))/len(y_cls):.2%})\")\n",
    "print(f\"Positive samples: {np.sum(y_cls):6,} ({(np.sum(y_cls))/len(y_cls):.2%})\")\n",
    "print(f\"  Total ------ -> {len(y_cls):6,}\")"
   ]
  },
  {
   "cell_type": "markdown",
   "id": "999a9a97-d832-462c-ae16-0a03dd36ae9b",
   "metadata": {},
   "source": [
    "We have plenty of molecules, lets save 20% for testing and create the model with 80%."
   ]
  },
  {
   "cell_type": "code",
   "execution_count": null,
   "id": "5ec930a7-5c87-45d6-a726-c884caef02e1",
   "metadata": {
    "tags": []
   },
   "outputs": [],
   "source": [
    "X_train_cls, X_test_cls, y_train_cls, y_test_cls = train_test_split(X, y_cls, \n",
    "                                                                    test_size = 0.20,\n",
    "                                                                    random_state=42,\n",
    "                                                                    shuffle=True,\n",
    "                                                                    stratify=y_cls)"
   ]
  },
  {
   "cell_type": "code",
   "execution_count": null,
   "id": "ed4bde05-f6f8-43cd-ab79-fd6a9a08f5d7",
   "metadata": {
    "tags": []
   },
   "outputs": [],
   "source": [
    "print(\"Training set:\")\n",
    "print(f\"  Negative samples: {len(y_train_cls) - np.sum(y_train_cls):6,} ({(len(y_train_cls) -  np.sum(y_train_cls))/len(y_train_cls):.2%})\")\n",
    "print(f\"  Positive samples: {np.sum(y_train_cls):6,} ({(np.sum(y_train_cls))/len(y_train_cls):.2%})\")\n",
    "print(f\"  Total ----------> {len(y_train_cls):6,}\")\n",
    "print(\"\\nTesting set:\")\n",
    "print(f\"  Negative samples: {len(y_test_cls) - np.sum(y_test_cls):6,} ({(len(y_test_cls) -  np.sum(y_test_cls))/len(y_test_cls):.2%})\")\n",
    "print(f\"  Positive samples: {np.sum(y_test_cls):6,} ({(np.sum(y_test_cls))/len(y_test_cls):.2%})\")\n",
    "print(f\"  Total ----------> {len(y_test_cls):6,}\")"
   ]
  },
  {
   "cell_type": "markdown",
   "id": "bcfa4792-2570-46c8-a253-a928b47e526a",
   "metadata": {},
   "source": [
    "Now we can train our classifier"
   ]
  },
  {
   "cell_type": "code",
   "execution_count": null,
   "id": "d8ad77f5-2998-46c7-bcc8-560c6fb6466f",
   "metadata": {
    "tags": []
   },
   "outputs": [],
   "source": [
    "clf = RandomForestClassifier(random_state=42, verbose=1)"
   ]
  },
  {
   "cell_type": "code",
   "execution_count": null,
   "id": "c1cd23a7-a922-41e2-94e5-fdfe69855574",
   "metadata": {
    "tags": []
   },
   "outputs": [],
   "source": [
    "%%time\n",
    "clf.fit(X_train_cls,y_train_cls)"
   ]
  },
  {
   "cell_type": "code",
   "execution_count": null,
   "id": "44814b84-c567-4a03-b02e-dfaa875dd9a2",
   "metadata": {
    "tags": []
   },
   "outputs": [],
   "source": [
    "y_pred_cls = clf.predict(X_test_cls)"
   ]
  },
  {
   "cell_type": "code",
   "execution_count": null,
   "id": "08f80e7c-5e37-48d6-9339-c051a7243a3c",
   "metadata": {
    "tags": []
   },
   "outputs": [],
   "source": [
    "print(f\"Accuracy:  {metrics.accuracy_score(y_test_cls, y_pred_cls):.2f}\")\n",
    "print(f\"F1-Score:  {metrics.f1_score(y_test_cls, y_pred_cls):.2f}\")\n",
    "print(f\"Precision: {metrics.precision_score(y_test_cls, y_pred_cls):.2f}\")\n",
    "print(f\"Recall:    {metrics.recall_score(y_test_cls, y_pred_cls):.2f}\" )\n",
    "print(f\"ROC_AUC:   {metrics.roc_auc_score(y_test_cls, y_pred_cls):.2f}\" )"
   ]
  },
  {
   "cell_type": "code",
   "execution_count": null,
   "id": "50fb6946-a2de-438d-979d-bcb06494b90c",
   "metadata": {
    "tags": []
   },
   "outputs": [],
   "source": [
    "print(f\"Confusion Matrix:\\n {metrics.confusion_matrix(y_test_cls, y_pred_cls)}\")"
   ]
  },
  {
   "cell_type": "markdown",
   "id": "dea22f7d-9729-4f49-9bd3-6725ca1a16f4",
   "metadata": {
    "tags": []
   },
   "source": [
    "## Random Forest Regressor\n",
    "Can we do better with a regression model?"
   ]
  },
  {
   "cell_type": "code",
   "execution_count": null,
   "id": "273f5acc-db6c-4c77-9d34-ac0cf5b71ee6",
   "metadata": {
    "tags": []
   },
   "outputs": [],
   "source": [
    "X_train, X_test, y_train, y_test = train_test_split(X, y, \n",
    "                                                    test_size = 0.30,\n",
    "                                                    random_state=42,\n",
    "                                                    shuffle=True)"
   ]
  },
  {
   "cell_type": "code",
   "execution_count": null,
   "id": "1c84ac82-066a-4f11-b042-5340811ef86d",
   "metadata": {
    "tags": []
   },
   "outputs": [],
   "source": [
    "print('Training set: ', len(X_train))\n",
    "print('Testing set:  ', len(X_test))"
   ]
  },
  {
   "cell_type": "code",
   "execution_count": null,
   "id": "b3215503-8f36-46a2-91c2-cc0e0654d670",
   "metadata": {
    "tags": []
   },
   "outputs": [],
   "source": [
    "sns.histplot(x=y_train,stat='count', kde=True, label=\"Training\");\n",
    "sns.histplot(x=y_test ,stat='count', kde=True, label=\"Testing\");\n",
    "plt.legend();"
   ]
  },
  {
   "cell_type": "code",
   "execution_count": null,
   "id": "60d5a3fc-bd42-4963-8e1b-92c3d2f0f9c0",
   "metadata": {
    "tags": []
   },
   "outputs": [],
   "source": [
    "reg = RandomForestRegressor(random_state=42, n_jobs=4, verbose=1)"
   ]
  },
  {
   "cell_type": "code",
   "execution_count": null,
   "id": "8a571b23-50da-471d-a364-d956c1c6088b",
   "metadata": {
    "tags": []
   },
   "outputs": [],
   "source": [
    "%%time\n",
    "reg.fit(X_train,y_train)"
   ]
  },
  {
   "cell_type": "code",
   "execution_count": null,
   "id": "63f048b1-5228-43ee-8701-ef142696e5a7",
   "metadata": {
    "tags": []
   },
   "outputs": [],
   "source": [
    "y_pred = reg.predict(X_test)"
   ]
  },
  {
   "cell_type": "code",
   "execution_count": null,
   "id": "5e1cc9d2-fb2b-4e57-ba65-6233467d3ddf",
   "metadata": {
    "tags": []
   },
   "outputs": [],
   "source": [
    "fig, ax = plt.subplots(nrows=1, ncols=2, figsize=(10,4))\n",
    "sns.regplot(x=y_pred, y=y_test, ax=ax[0]);\n",
    "sns.residplot(x=y_pred, y=y_test, ax=ax[1]);\n",
    "ax[0].title.set_text('Correlation')\n",
    "ax[1].title.set_text('Residuals')\n",
    "\n",
    "ax[0].set_xlabel('Predicted Score (kcal/mol)')\n",
    "ax[1].set_xlabel('Predicted Score (kcal/mol)')\n",
    "\n",
    "ax[0].set_ylabel('Actual Score (kcal/mol)')\n",
    "ax[1].set_ylabel('Residual (kcal/mol)');"
   ]
  },
  {
   "cell_type": "code",
   "execution_count": null,
   "id": "9d6a233a-5914-4362-a0f0-31e10d396937",
   "metadata": {},
   "outputs": [],
   "source": [
    "from scipy.stats import pearsonr\n",
    "pearson_corr = pearsonr(y_pred,y_test)\n",
    "print(f\"Pearson Correlation Coefficient: {pearson_corr[0]:.2f}\")\n",
    "print(f\"                    and P-Value: {pearson_corr[1]}\")"
   ]
  },
  {
   "cell_type": "markdown",
   "id": "f762e71d-a666-421e-9a96-16dbadda4d28",
   "metadata": {},
   "source": [
    "# Scan the Full DB with the Regression Model\n",
    "Let's use the regression model obtained to screen the whole library."
   ]
  },
  {
   "cell_type": "code",
   "execution_count": null,
   "id": "0a3a6a9d-625e-4423-b625-6854f0472606",
   "metadata": {
    "tags": []
   },
   "outputs": [],
   "source": [
    "%%time\n",
    "predicted_scores = reg.predict(database.RDKit.values.tolist())"
   ]
  },
  {
   "cell_type": "markdown",
   "id": "ffd0584d-9738-481a-bbc9-91201a4dc5b9",
   "metadata": {},
   "source": [
    "With that, we scanned the whole library in less than 4 seconds. Compare to the estimated >25 days it would take to dock all molecules.\n",
    "\n",
    "Add those results to the database:"
   ]
  },
  {
   "cell_type": "code",
   "execution_count": null,
   "id": "3540b902-ddd5-4b83-8502-e55793903d10",
   "metadata": {
    "tags": []
   },
   "outputs": [],
   "source": [
    "database['Predictions'] = predicted_scores"
   ]
  },
  {
   "cell_type": "markdown",
   "id": "76e0ac92-cbc6-42a6-8757-133b2cce7014",
   "metadata": {},
   "source": [
    "# Select top 10k molecules based on predictions\n",
    "Finally, we would use the predicted scores to select molecules for the next round of docking. Since we already have the docking energies here, we can just collect the data from the database. But remember: in a real application, you would need to dock the selected molecules."
   ]
  },
  {
   "cell_type": "code",
   "execution_count": null,
   "id": "f7ce1d84-32ff-46ec-995e-76c46d6dd604",
   "metadata": {
    "tags": []
   },
   "outputs": [],
   "source": [
    "biased_sel = database.sort_values(by=['Predictions'], ascending=True)[:N_SAMPLE]"
   ]
  },
  {
   "cell_type": "markdown",
   "id": "d8d268d1-0308-449c-a1e0-f6fa87b7dc50",
   "metadata": {},
   "source": [
    "Finally, let's compare to the random selection of molecules"
   ]
  },
  {
   "cell_type": "code",
   "execution_count": null,
   "id": "7491ca63-2b07-46dd-9c66-b3c7f582d681",
   "metadata": {
    "tags": []
   },
   "outputs": [],
   "source": [
    "sns.histplot(data=random_sel, x='Scores', kde=True, label=\"Random Sample\");\n",
    "sns.histplot(data=biased_sel, x='Scores', kde=True, label=\"Biased Sample\");\n",
    "plt.legend();"
   ]
  },
  {
   "cell_type": "markdown",
   "id": "c90d0f53-3fb7-4b64-916a-3795560830c1",
   "metadata": {},
   "source": [
    "Looks like we did get some improvement. Let's look at more detailed statistics, and compare with the full database:"
   ]
  },
  {
   "cell_type": "code",
   "execution_count": null,
   "id": "4cd099e9-b112-43c8-a7a9-3b81b9316456",
   "metadata": {
    "tags": []
   },
   "outputs": [],
   "source": [
    "desc_full = database.Scores.describe()\n",
    "desc_random = random_sel.Scores.describe()\n",
    "desc_biased = biased_sel.Scores.describe()\n",
    "desc_stats = desc_random.index\n",
    "\n",
    "desc_df = pd.DataFrame(columns=desc_stats, data=np.array(list(zip(desc_full.values, desc_random.values, desc_biased.values))).transpose())\n",
    "desc_df.drop(columns='count', inplace=True)\n",
    "desc_df.index = ['Full Database','Random Selection','Biased Selection']\n",
    "desc_df"
   ]
  },
  {
   "cell_type": "code",
   "execution_count": null,
   "id": "7b5a0ea8-56da-49e7-921b-03f4fc42fc85",
   "metadata": {
    "tags": []
   },
   "outputs": [],
   "source": [
    "desc_long = pd.melt(desc_df.transpose().reset_index(names='Statistics'), id_vars=['Statistics'], value_vars=['Full Database','Random Selection','Biased Selection'], \n",
    "                    var_name='Source', value_name='Value')\n",
    "sns.barplot(data=desc_long, x='Statistics', y='Value', hue='Source');"
   ]
  },
  {
   "cell_type": "markdown",
   "id": "d14979ec-cc85-445c-bbbf-c3d34b040949",
   "metadata": {},
   "source": [
    "Notice that the random selection is very similar to the full database, except in the `min` measure. What does that mean?"
   ]
  },
  {
   "cell_type": "markdown",
   "id": "622ca9c4-d486-4b02-bae8-f8d88a1900d7",
   "metadata": {
    "tags": []
   },
   "source": [
    "<div class=\"alert alert-success\" role=\"alert\">\n",
    "    <b>That's it for today</b> </br>\n",
    "    As an exercise, see if you can get a better model by changing the method and/or adjusting hyperparameters!\n",
    "</div>"
   ]
  },
  {
   "cell_type": "code",
   "execution_count": null,
   "id": "1c68d07d-156a-4c99-8dfe-7ee771d6cf79",
   "metadata": {},
   "outputs": [],
   "source": []
  }
 ],
 "metadata": {
  "kernelspec": {
   "display_name": "AI4DD_2024",
   "language": "python",
   "name": "ai4dd_2024"
  },
  "language_info": {
   "codemirror_mode": {
    "name": "ipython",
    "version": 3
   },
   "file_extension": ".py",
   "mimetype": "text/x-python",
   "name": "python",
   "nbconvert_exporter": "python",
   "pygments_lexer": "ipython3",
   "version": "3.12.6"
  }
 },
 "nbformat": 4,
 "nbformat_minor": 5
}
